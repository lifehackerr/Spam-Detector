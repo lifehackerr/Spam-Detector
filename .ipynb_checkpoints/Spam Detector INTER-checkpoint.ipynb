{
 "cells": [
  {
   "cell_type": "code",
   "execution_count": 1,
   "metadata": {},
   "outputs": [],
   "source": [
    "import pandas as pd"
   ]
  },
  {
   "cell_type": "code",
   "execution_count": 2,
   "metadata": {},
   "outputs": [],
   "source": [
    "data = pd.read_csv(\"C:\\\\Users\\omkes\\Desktop\\spamDetector\\spam.csv\", encoding = \"latin-1\")\n",
    "data = data[['v1', 'v2']]\n",
    "data = data.rename(columns = {'v1': 'analysis', 'v2': 'message'})"
   ]
  },
  {
   "cell_type": "code",
   "execution_count": 3,
   "metadata": {},
   "outputs": [
    {
     "data": {
      "text/html": [
       "<div>\n",
       "<style scoped>\n",
       "    .dataframe tbody tr th:only-of-type {\n",
       "        vertical-align: middle;\n",
       "    }\n",
       "\n",
       "    .dataframe tbody tr th {\n",
       "        vertical-align: top;\n",
       "    }\n",
       "\n",
       "    .dataframe thead th {\n",
       "        text-align: right;\n",
       "    }\n",
       "</style>\n",
       "<table border=\"1\" class=\"dataframe\">\n",
       "  <thead>\n",
       "    <tr style=\"text-align: right;\">\n",
       "      <th></th>\n",
       "      <th>analysis</th>\n",
       "      <th>message</th>\n",
       "    </tr>\n",
       "  </thead>\n",
       "  <tbody>\n",
       "    <tr>\n",
       "      <th>0</th>\n",
       "      <td>ham</td>\n",
       "      <td>Go until jurong point, crazy.. Available only ...</td>\n",
       "    </tr>\n",
       "    <tr>\n",
       "      <th>1</th>\n",
       "      <td>ham</td>\n",
       "      <td>Ok lar... Joking wif u oni...</td>\n",
       "    </tr>\n",
       "    <tr>\n",
       "      <th>2</th>\n",
       "      <td>spam</td>\n",
       "      <td>Free entry in 2 a wkly comp to win FA Cup fina...</td>\n",
       "    </tr>\n",
       "    <tr>\n",
       "      <th>3</th>\n",
       "      <td>ham</td>\n",
       "      <td>U dun say so early hor... U c already then say...</td>\n",
       "    </tr>\n",
       "    <tr>\n",
       "      <th>4</th>\n",
       "      <td>ham</td>\n",
       "      <td>Nah I don't think he goes to usf, he lives aro...</td>\n",
       "    </tr>\n",
       "    <tr>\n",
       "      <th>...</th>\n",
       "      <td>...</td>\n",
       "      <td>...</td>\n",
       "    </tr>\n",
       "    <tr>\n",
       "      <th>5567</th>\n",
       "      <td>spam</td>\n",
       "      <td>This is the 2nd time we have tried 2 contact u...</td>\n",
       "    </tr>\n",
       "    <tr>\n",
       "      <th>5568</th>\n",
       "      <td>ham</td>\n",
       "      <td>Will Ì_ b going to esplanade fr home?</td>\n",
       "    </tr>\n",
       "    <tr>\n",
       "      <th>5569</th>\n",
       "      <td>ham</td>\n",
       "      <td>Pity, * was in mood for that. So...any other s...</td>\n",
       "    </tr>\n",
       "    <tr>\n",
       "      <th>5570</th>\n",
       "      <td>ham</td>\n",
       "      <td>The guy did some bitching but I acted like i'd...</td>\n",
       "    </tr>\n",
       "    <tr>\n",
       "      <th>5571</th>\n",
       "      <td>ham</td>\n",
       "      <td>Rofl. Its true to its name</td>\n",
       "    </tr>\n",
       "  </tbody>\n",
       "</table>\n",
       "<p>5572 rows × 2 columns</p>\n",
       "</div>"
      ],
      "text/plain": [
       "     analysis                                            message\n",
       "0         ham  Go until jurong point, crazy.. Available only ...\n",
       "1         ham                      Ok lar... Joking wif u oni...\n",
       "2        spam  Free entry in 2 a wkly comp to win FA Cup fina...\n",
       "3         ham  U dun say so early hor... U c already then say...\n",
       "4         ham  Nah I don't think he goes to usf, he lives aro...\n",
       "...       ...                                                ...\n",
       "5567     spam  This is the 2nd time we have tried 2 contact u...\n",
       "5568      ham              Will Ì_ b going to esplanade fr home?\n",
       "5569      ham  Pity, * was in mood for that. So...any other s...\n",
       "5570      ham  The guy did some bitching but I acted like i'd...\n",
       "5571      ham                         Rofl. Its true to its name\n",
       "\n",
       "[5572 rows x 2 columns]"
      ]
     },
     "execution_count": 3,
     "metadata": {},
     "output_type": "execute_result"
    }
   ],
   "source": [
    "data"
   ]
  },
  {
   "cell_type": "code",
   "execution_count": 4,
   "metadata": {},
   "outputs": [
    {
     "data": {
      "text/plain": [
       "0        ham\n",
       "1        ham\n",
       "2       spam\n",
       "3        ham\n",
       "4        ham\n",
       "        ... \n",
       "5567    spam\n",
       "5568     ham\n",
       "5569     ham\n",
       "5570     ham\n",
       "5571     ham\n",
       "Name: analysis, Length: 5572, dtype: object"
      ]
     },
     "execution_count": 4,
     "metadata": {},
     "output_type": "execute_result"
    }
   ],
   "source": [
    "data['analysis']"
   ]
  },
  {
   "cell_type": "code",
   "execution_count": 5,
   "metadata": {},
   "outputs": [],
   "source": [
    "def normalize(message):\n",
    "    message = message.lower()\n",
    "    return message"
   ]
  },
  {
   "cell_type": "code",
   "execution_count": 6,
   "metadata": {},
   "outputs": [],
   "source": [
    "data['message'] = data['message'].apply(normalize)"
   ]
  },
  {
   "cell_type": "code",
   "execution_count": 7,
   "metadata": {},
   "outputs": [
    {
     "data": {
      "text/plain": [
       "0       go until jurong point, crazy.. available only ...\n",
       "1                           ok lar... joking wif u oni...\n",
       "2       free entry in 2 a wkly comp to win fa cup fina...\n",
       "3       u dun say so early hor... u c already then say...\n",
       "4       nah i don't think he goes to usf, he lives aro...\n",
       "                              ...                        \n",
       "5567    this is the 2nd time we have tried 2 contact u...\n",
       "5568                will ì_ b going to esplanade fr home?\n",
       "5569    pity, * was in mood for that. so...any other s...\n",
       "5570    the guy did some bitching but i acted like i'd...\n",
       "5571                           rofl. its true to its name\n",
       "Name: message, Length: 5572, dtype: object"
      ]
     },
     "execution_count": 7,
     "metadata": {},
     "output_type": "execute_result"
    }
   ],
   "source": [
    "data['message']"
   ]
  },
  {
   "cell_type": "code",
   "execution_count": 8,
   "metadata": {},
   "outputs": [],
   "source": [
    "from sklearn.model_selection import train_test_split\n",
    "X_train, X_test, y_train, y_test = train_test_split(data['message'], data['analysis'], test_size = 0.2, random_state = 1)"
   ]
  },
  {
   "cell_type": "code",
   "execution_count": 9,
   "metadata": {},
   "outputs": [],
   "source": [
    "from sklearn.feature_extraction.text import TfidfVectorizer\n",
    "vectorizer = TfidfVectorizer()\n",
    "X_train = vectorizer.fit_transform(X_train)"
   ]
  },
  {
   "cell_type": "code",
   "execution_count": 10,
   "metadata": {
    "scrolled": true
   },
   "outputs": [
    {
     "data": {
      "text/plain": [
       "SVC(C=1000, break_ties=False, cache_size=200, class_weight=None, coef0=0.0,\n",
       "    decision_function_shape='ovr', degree=3, gamma='scale', kernel='rbf',\n",
       "    max_iter=-1, probability=False, random_state=None, shrinking=True,\n",
       "    tol=0.001, verbose=False)"
      ]
     },
     "execution_count": 10,
     "metadata": {},
     "output_type": "execute_result"
    }
   ],
   "source": [
    "from sklearn import svm\n",
    "svm = svm.SVC(C=1000)\n",
    "svm.fit(X_train, y_train)"
   ]
  },
  {
   "cell_type": "code",
   "execution_count": 11,
   "metadata": {},
   "outputs": [
    {
     "data": {
      "text/plain": [
       "1.0"
      ]
     },
     "execution_count": 11,
     "metadata": {},
     "output_type": "execute_result"
    }
   ],
   "source": [
    "svm.score(X_train,y_train)"
   ]
  },
  {
   "cell_type": "code",
   "execution_count": 12,
   "metadata": {},
   "outputs": [
    {
     "name": "stdout",
     "output_type": "stream",
     "text": [
      "[[975   1]\n",
      " [  9 130]]\n"
     ]
    }
   ],
   "source": [
    "from sklearn.metrics import confusion_matrix\n",
    "X_test = vectorizer.transform(X_test)\n",
    "y_pred = svm.predict(X_test) \n",
    "print(confusion_matrix(y_test, y_pred))\n",
    " "
   ]
  },
  {
   "cell_type": "code",
   "execution_count": 13,
   "metadata": {},
   "outputs": [],
   "source": [
    "def check_spam(message):\n",
    "    message = vectorizer.transform([message])\n",
    "    prediction = svm.predict(message)\n",
    "    return prediction[0]"
   ]
  },
  {
   "cell_type": "code",
   "execution_count": 14,
   "metadata": {},
   "outputs": [],
   "source": [
    "import tkinter as tk\n",
    "from tkinter import filedialog\n",
    "from tkinter import *\n",
    "from PIL import ImageTk, Image"
   ]
  },
  {
   "cell_type": "code",
   "execution_count": 15,
   "metadata": {},
   "outputs": [
    {
     "data": {
      "text/plain": [
       "(1, 1)"
      ]
     },
     "execution_count": 15,
     "metadata": {},
     "output_type": "execute_result"
    }
   ],
   "source": [
    "top=tk.Tk()\n",
    "top.geometry('1000x600')\n",
    "top.title('Spam Detector')\n",
    "top.iconbitmap('C:\\\\Users\\omkes\\Desktop\\spamDetector\\images\\icons\\sd_icon.ico')\n",
    "top.configure(background='white')\n",
    "top.resizable()\n",
    "    "
   ]
  },
  {
   "cell_type": "code",
   "execution_count": 16,
   "metadata": {},
   "outputs": [],
   "source": [
    "def check(message_text, new_window):\n",
    "    result=check_spam(message_text.get('1.0', END))\n",
    "    if result=='ham':  result='That\\'s not spam'\n",
    "    else: result='Definately spam!'\n",
    "    result_label=Label(new_window, text=result)\n",
    "    result_label.configure(background='#ebf9f7', foreground='#05232c', font='arial 14 bold')\n",
    "    result_label.place(relx=0.73, rely=0.46)"
   ]
  },
  {
   "cell_type": "code",
   "execution_count": 17,
   "metadata": {},
   "outputs": [],
   "source": [
    "def show_test_button(new_window, message_text):\n",
    "    test_button=Button(new_window,text=\"Test me\",command=lambda: check(message_text, new_window),padx=10,pady=5)\n",
    "    test_button.place(relx=0.33,rely=0.83)"
   ]
  },
  {
   "cell_type": "code",
   "execution_count": 18,
   "metadata": {},
   "outputs": [],
   "source": [
    "def new_test():\n",
    "    new_window=Toplevel()\n",
    "    new_window.geometry('900x470')\n",
    "    new_window.title('Test New Message')\n",
    "    new_window.iconbitmap('.\\\\images\\\\icons\\\\sd_icon.ico')\n",
    "    new_window.configure(background='#ebf9f7')\n",
    "    new_text=Label(new_window,text='Type in a message to check')\n",
    "    new_text.configure(background='#ebf9f7', foreground='#05232c', font='arial 14 bold')\n",
    "    new_text.pack(side='top',pady=25)\n",
    "    message_text=Text(new_window, height=15, width=55)\n",
    "    message_text.insert(END, 'Put your message here')\n",
    "    message_text.tag_add(SEL, '1.0', END)\n",
    "    message_text.focus_set()\n",
    "    message_text.place(relx=0.13,rely=0.25)\n",
    "    show_test_button(new_window,message_text)"
   ]
  },
  {
   "cell_type": "code",
   "execution_count": 19,
   "metadata": {},
   "outputs": [],
   "source": [
    "def show_help():\n",
    "    help_window=Toplevel()\n",
    "    help_window.geometry('900x470')\n",
    "    help_window.title('Help - Spam Detector')\n",
    "    help_window.iconbitmap('.\\\\images\\\\icons\\\\sd_icon.ico')\n",
    "    help_window.configure(background='#ebf9f7')\n",
    "    spam_text=Label(help_window,text='What is Spam?')\n",
    "    spam_text.configure(background='#ebf9f7', foreground='#05232c', font='arial 14 bold underline')\n",
    "    spam_text.place(relx=0.06,rely=0.08)\n",
    "    spam_help_text=Label(help_window, text=\"Spam is any irrelevant and/or unsolicited message you may receive over the Internet. This is usually sent to a large number of users (in bulk) for different purposes like advertising, phishing, and spreading malware. Spam may even be generated using botnets.\", wraplength=800, justify=LEFT)\n",
    "    spam_help_text.configure(background='#ebf9f7', foreground='#05232c', font='arial')\n",
    "    spam_help_text.place(relx=0.06,rely=0.18)\n",
    "    sd_text=Label(help_window,text='What is this Spam Detector?')\n",
    "    sd_text.configure(background='#ebf9f7', foreground='#05232c', font='arial 14 bold underline')\n",
    "    sd_text.place(relx=0.06,rely=0.45)\n",
    "    sd_help_text=Label(help_window, text=\"This Spam Detector helps you identify whether a message is spam or ham. Just put in a message and it will tell you the results.\", wraplength=800, justify=LEFT)\n",
    "    sd_help_text.configure(background='#ebf9f7', foreground='#05232c', font='arial')\n",
    "    sd_help_text.place(relx=0.06,rely=0.52)"
   ]
  },
  {
   "cell_type": "code",
   "execution_count": 20,
   "metadata": {},
   "outputs": [],
   "source": [
    "sd_img=Image.open('C:\\\\Users\\omkes\\Desktop\\spamDetector\\images\\others\\Spam Detector.jpg')\n",
    "sd_img.thumbnail((top.winfo_width(),top.winfo_height()))\n",
    "sd_img=ImageTk.PhotoImage(sd_img)\n",
    "sd_label=Label(top,image=sd_img)\n",
    "sd_label.image=sd_img\n",
    "sd_label.pack(side='top',expand='yes')"
   ]
  },
  {
   "cell_type": "code",
   "execution_count": 21,
   "metadata": {},
   "outputs": [],
   "source": [
    "new_button=Button(top,text=\"Test a message\",command=new_test,padx=20,pady=7)\n",
    "new_button.configure(background='#09B29D',foreground='white',font=('arial',13,'bold'))\n",
    "new_button.place(relx=0.42,rely=0.84)\n",
    "help_img=Image.open('.\\\\images\\\\icons\\\\help.png')\n",
    "help_img.thumbnail((20,20))\n",
    "help_img=ImageTk.PhotoImage(help_img)\n",
    "sample=Button(top,command=show_help,padx=10,pady=5, borderwidth=0, cursor='hand2', image=help_img,text=\"Help\", compound='left')\n",
    "sample.configure(background='#EED3B6',foreground='black',font=('arial',10))\n",
    "sample.place(relx=0.90,rely=0.06)"
   ]
  },
  {
   "cell_type": "code",
   "execution_count": 22,
   "metadata": {},
   "outputs": [],
   "source": [
    "top.mainloop()"
   ]
  },
  {
   "cell_type": "code",
   "execution_count": null,
   "metadata": {},
   "outputs": [],
   "source": []
  }
 ],
 "metadata": {
  "kernelspec": {
   "display_name": "Python 3",
   "language": "python",
   "name": "python3"
  },
  "language_info": {
   "codemirror_mode": {
    "name": "ipython",
    "version": 3
   },
   "file_extension": ".py",
   "mimetype": "text/x-python",
   "name": "python",
   "nbconvert_exporter": "python",
   "pygments_lexer": "ipython3",
   "version": "3.8.0"
  }
 },
 "nbformat": 4,
 "nbformat_minor": 2
}
